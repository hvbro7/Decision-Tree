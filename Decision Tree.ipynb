{
 "cells": [
  {
   "cell_type": "code",
   "execution_count": 1,
   "id": "85b9fc20",
   "metadata": {},
   "outputs": [
    {
     "data": {
      "text/plain": [
       "'A Decision Tree is a supervised machine learning model used for classification and regression. It splits data into branches based on feature values,\\n creating a tree structure where each node represents a decision based on a feature, and leaves represent the final prediction.'"
      ]
     },
     "execution_count": 1,
     "metadata": {},
     "output_type": "execute_result"
    }
   ],
   "source": [
    "#1.What is a Decision Tree, and how does it work?\n",
    "'''A Decision Tree is a supervised machine learning model used for classification and regression. It splits data into branches based on feature values,\n",
    " creating a tree structure where each node represents a decision based on a feature, and leaves represent the final prediction.'''"
   ]
  },
  {
   "cell_type": "code",
   "execution_count": 2,
   "id": "bcd2344d",
   "metadata": {},
   "outputs": [
    {
     "data": {
      "text/plain": [
       "'Impurity measures quantify how \"mixed\" the classes are in a dataset:\\n\\nGini Impurity\\n\\nEntropy\\n\\nThese metrics help decide the best feature and threshold to split the data.'"
      ]
     },
     "execution_count": 2,
     "metadata": {},
     "output_type": "execute_result"
    }
   ],
   "source": [
    "#2. What are impurity measures in Decision Trees?\n",
    "'''Impurity measures quantify how \"mixed\" the classes are in a dataset:\n",
    "\n",
    "Gini Impurity\n",
    "\n",
    "Entropy\n",
    "\n",
    "These metrics help decide the best feature and threshold to split the data.'''"
   ]
  },
  {
   "cell_type": "code",
   "execution_count": 3,
   "id": "6f78b762",
   "metadata": {},
   "outputs": [
    {
     "data": {
      "text/plain": [
       "'For a node with class probabilities \\n𝑝1,𝑝2,....𝑝𝑘p :\\n\\nGini=1−∑𝑖=1𝑘𝑝𝑖^2\\n\\n\\nMinimum (pure) = 0; Maximum (most impure) ≈ 0.5 for binary classification.'"
      ]
     },
     "execution_count": 3,
     "metadata": {},
     "output_type": "execute_result"
    }
   ],
   "source": [
    "#3. What is the mathematical formula for Gini Impurity?\n",
    "'''For a node with class probabilities \n",
    "𝑝1,𝑝2,....𝑝𝑘p :\n",
    "\n",
    "Gini=1−∑𝑖=1𝑘𝑝𝑖^2\n",
    "\n",
    " \n",
    "Minimum (pure) = 0; Maximum (most impure) ≈ 0.5 for binary classification.'''\n"
   ]
  },
  {
   "cell_type": "code",
   "execution_count": 4,
   "id": "a2f46a4b",
   "metadata": {},
   "outputs": [
    {
     "data": {
      "text/plain": [
       "'Entropy=-i=1∑k p i log 2 (p i )\\n\\n\\nEntropy = 0 (pure node), max = 1 for a 50/50 class split.'"
      ]
     },
     "execution_count": 4,
     "metadata": {},
     "output_type": "execute_result"
    }
   ],
   "source": [
    "#4. What is the mathematical formula for Entropy?\n",
    "\n",
    "'''Entropy=-i=1∑k p i log 2 (p i )\n",
    "\n",
    "\n",
    "Entropy = 0 (pure node), max = 1 for a 50/50 class split.'''"
   ]
  },
  {
   "cell_type": "code",
   "execution_count": 5,
   "id": "7bdeef11",
   "metadata": {},
   "outputs": [
    {
     "data": {
      "text/plain": [
       "'Information Gain measures the reduction in impurity after a split:\\n\\nInformation Gain=Entropy parent −∑( n total  n child    ×Entropy child  )\\n'"
      ]
     },
     "execution_count": 5,
     "metadata": {},
     "output_type": "execute_result"
    }
   ],
   "source": [
    "#5.What is Information Gain, and how is it used in Decision Trees?\n",
    "'''Information Gain measures the reduction in impurity after a split:\n",
    "\n",
    "Information Gain=Entropy parent −∑( n total  n child    ×Entropy child  )\n",
    "'''\n"
   ]
  },
  {
   "cell_type": "code",
   "execution_count": 6,
   "id": "d33c448c",
   "metadata": {},
   "outputs": [
    {
     "name": "stderr",
     "output_type": "stream",
     "text": [
      "<>:2: SyntaxWarning: invalid escape sequence '\\s'\n",
      "<>:2: SyntaxWarning: invalid escape sequence '\\s'\n",
      "C:\\Users\\Harshit Verma\\AppData\\Local\\Temp\\ipykernel_7920\\4272261167.py:2: SyntaxWarning: invalid escape sequence '\\s'\n",
      "  '''\n"
     ]
    },
    {
     "data": {
      "text/plain": [
       "'\\n| Aspect      | Gini Impurity                            | Entropy                             |\\n|             |                                          |                                     |\\n| Formula     | $1 - \\\\sum p_i^2$                         | $-\\\\sum p_i \\\\log_2(p_i)$             |\\n| Calculation | Faster (no log)                          | Slightly more computationally heavy |\\n| Usage       | CART algorithm (default in scikit-learn) | ID3/C4.5 algorithms                 |'"
      ]
     },
     "execution_count": 6,
     "metadata": {},
     "output_type": "execute_result"
    }
   ],
   "source": [
    "#6. What is the difference between Gini Impurity and Entropy?\n",
    "'''\n",
    "| Aspect      | Gini Impurity                            | Entropy                             |\n",
    "|             |                                          |                                     |\n",
    "| Formula     | $1 - \\sum p_i^2$                         | $-\\sum p_i \\log_2(p_i)$             |\n",
    "| Calculation | Faster (no log)                          | Slightly more computationally heavy |\n",
    "| Usage       | CART algorithm (default in scikit-learn) | ID3/C4.5 algorithms                 |'''\n"
   ]
  },
  {
   "cell_type": "code",
   "execution_count": 7,
   "id": "8eb39296",
   "metadata": {},
   "outputs": [
    {
     "data": {
      "text/plain": [
       "'The algorithm recursively splits the data using the feature that gives the maximum Information Gain (or minimum Gini).\\n\\nThis continues until a stopping criterion is met (e.g., max depth, minimum samples per leaf).'"
      ]
     },
     "execution_count": 7,
     "metadata": {},
     "output_type": "execute_result"
    }
   ],
   "source": [
    "#7. What is the mathematical explanation behind Decision Trees?\n",
    "'''The algorithm recursively splits the data using the feature that gives the maximum Information Gain (or minimum Gini).\n",
    "\n",
    "This continues until a stopping criterion is met (e.g., max depth, minimum samples per leaf).'''"
   ]
  },
  {
   "cell_type": "code",
   "execution_count": 8,
   "id": "c585d14b",
   "metadata": {},
   "outputs": [
    {
     "data": {
      "text/plain": [
       "'Pre-Pruning stops the tree from growing too deep:\\n\\nParameters: max_depth, min_samples_split, max_leaf_nodes, etc.\\n\\nPrevents overfitting during tree building.'"
      ]
     },
     "execution_count": 8,
     "metadata": {},
     "output_type": "execute_result"
    }
   ],
   "source": [
    "#8. What is Pre-Pruning in Decision Trees?\n",
    "'''Pre-Pruning stops the tree from growing too deep:\n",
    "\n",
    "Parameters: max_depth, min_samples_split, max_leaf_nodes, etc.\n",
    "\n",
    "Prevents overfitting during tree building.'''\n",
    "\n"
   ]
  },
  {
   "cell_type": "code",
   "execution_count": 9,
   "id": "e83a88ef",
   "metadata": {},
   "outputs": [
    {
     "data": {
      "text/plain": [
       "'Post-Pruning trims the tree after it is fully grown:\\n\\nUses validation data to remove nodes that do not improve performance.\\n\\nExample: Cost-complexity pruning (ccp_alpha in scikit-learn).'"
      ]
     },
     "execution_count": 9,
     "metadata": {},
     "output_type": "execute_result"
    }
   ],
   "source": [
    "#9.  What is Post-Pruning in Decision Trees?\n",
    "'''Post-Pruning trims the tree after it is fully grown:\n",
    "\n",
    "Uses validation data to remove nodes that do not improve performance.\n",
    "\n",
    "Example: Cost-complexity pruning (ccp_alpha in scikit-learn).'''"
   ]
  },
  {
   "cell_type": "code",
   "execution_count": 10,
   "id": "7cbc6845",
   "metadata": {},
   "outputs": [
    {
     "data": {
      "text/plain": [
       "'\\n| Feature  | Pre-Pruning             | Post-Pruning               |\\n|          |                         |                            |\\n| Timing   | Before full tree growth | After full tree is grown   |\\n| Strategy | Stop growth early       | Prune back from full model |\\n| Risk     | May underfit            | Better balance (usually)   |'"
      ]
     },
     "execution_count": 10,
     "metadata": {},
     "output_type": "execute_result"
    }
   ],
   "source": [
    "#10. What is the difference between Pre-Pruning and Post-Pruning?\n",
    "'''\n",
    "| Feature  | Pre-Pruning             | Post-Pruning               |\n",
    "|          |                         |                            |\n",
    "| Timing   | Before full tree growth | After full tree is grown   |\n",
    "| Strategy | Stop growth early       | Prune back from full model |\n",
    "| Risk     | May underfit            | Better balance (usually)   |'''\n"
   ]
  },
  {
   "cell_type": "code",
   "execution_count": 11,
   "id": "696509b5",
   "metadata": {},
   "outputs": [
    {
     "data": {
      "text/plain": [
       "'A Decision Tree Regressor predicts continuous values instead of categories:\\n\\nSplits are chosen to minimize Mean Squared Error (MSE) or Mean Absolute Error (MAE).\\n\\nAt leaves, predictions are the average of values in that node.'"
      ]
     },
     "execution_count": 11,
     "metadata": {},
     "output_type": "execute_result"
    }
   ],
   "source": [
    "#11.  What is a Decision Tree Regressor?\n",
    "'''A Decision Tree Regressor predicts continuous values instead of categories:\n",
    "\n",
    "Splits are chosen to minimize Mean Squared Error (MSE) or Mean Absolute Error (MAE).\n",
    "\n",
    "At leaves, predictions are the average of values in that node.'''\n",
    "\n"
   ]
  },
  {
   "cell_type": "code",
   "execution_count": 12,
   "id": "bca3af9f",
   "metadata": {},
   "outputs": [
    {
     "data": {
      "text/plain": [
       "'Advantages:\\n\\nEasy to understand and interpret\\n\\nNo feature scaling needed\\n\\nHandles categorical and numerical data\\n\\nCan model non-linear relationships\\n\\nDisadvantages:\\n\\nProne to overfitting\\n\\nUnstable (small data changes can cause big changes)\\n\\nGreedy algorithm may not find the optimal tree'"
      ]
     },
     "execution_count": 12,
     "metadata": {},
     "output_type": "execute_result"
    }
   ],
   "source": [
    "#12. What are the advantages and disadvantages of Decision Trees?\n",
    "'''Advantages:\n",
    "\n",
    "Easy to understand and interpret\n",
    "\n",
    "No feature scaling needed\n",
    "\n",
    "Handles categorical and numerical data\n",
    "\n",
    "Can model non-linear relationships\n",
    "\n",
    "Disadvantages:\n",
    "\n",
    "Prone to overfitting\n",
    "\n",
    "Unstable (small data changes can cause big changes)\n",
    "\n",
    "Greedy algorithm may not find the optimal tree'''"
   ]
  },
  {
   "cell_type": "code",
   "execution_count": 13,
   "id": "f21afea2",
   "metadata": {},
   "outputs": [
    {
     "data": {
      "text/plain": [
       "\"Some implementations handle missing values by:\\n\\nSurrogate splits: Use alternative features if the main one is missing.\\n\\nImputation before training.\\n'\\nScikit-learn requires missing values to be handled before training (e.g., using SimpleImputer).\""
      ]
     },
     "execution_count": 13,
     "metadata": {},
     "output_type": "execute_result"
    }
   ],
   "source": [
    "#13. How does a Decision Tree handle missing values?\n",
    "'''Some implementations handle missing values by:\n",
    "\n",
    "Surrogate splits: Use alternative features if the main one is missing.\n",
    "\n",
    "Imputation before training.\n",
    "'\n",
    "Scikit-learn requires missing values to be handled before training (e.g., using SimpleImputer).'''"
   ]
  },
  {
   "cell_type": "code",
   "execution_count": 14,
   "id": "fa8bef3d",
   "metadata": {},
   "outputs": [
    {
     "data": {
      "text/plain": [
       "'Most implementations (like scikit-learn) require converting categories using one-hot encoding or ordinal encoding.\\n\\nSome libraries (like XGBoost, LightGBM, or DecisionTreeClassifier in R) support categorical features natively.'"
      ]
     },
     "execution_count": 14,
     "metadata": {},
     "output_type": "execute_result"
    }
   ],
   "source": [
    "#14.  How does a Decision Tree handle categorical features?\n",
    "'''Most implementations (like scikit-learn) require converting categories using one-hot encoding or ordinal encoding.\n",
    "\n",
    "Some libraries (like XGBoost, LightGBM, or DecisionTreeClassifier in R) support categorical features natively.'''"
   ]
  },
  {
   "cell_type": "code",
   "execution_count": 15,
   "id": "fb9bc7bc",
   "metadata": {},
   "outputs": [
    {
     "data": {
      "text/plain": [
       "'\\nMedical diagnosis\\n\\nCredit risk assessment\\n\\nLoan approval systems\\n\\nCustomer segmentation\\n\\nFraud detection\\n\\nBusiness decision modeling\\n'"
      ]
     },
     "execution_count": 15,
     "metadata": {},
     "output_type": "execute_result"
    }
   ],
   "source": [
    "#15. What are some real-world applications of Decision Trees?\n",
    "\n",
    "'''\n",
    "Medical diagnosis\n",
    "\n",
    "Credit risk assessment\n",
    "\n",
    "Loan approval systems\n",
    "\n",
    "Customer segmentation\n",
    "\n",
    "Fraud detection\n",
    "\n",
    "Business decision modeling\n",
    "'''"
   ]
  },
  {
   "cell_type": "code",
   "execution_count": 1,
   "id": "0c50b87f",
   "metadata": {},
   "outputs": [
    {
     "name": "stdout",
     "output_type": "stream",
     "text": [
      "Model Accuracy: 1.0\n"
     ]
    }
   ],
   "source": [
    "#16. Write a Python program to train a Decision Tree Classifier on the Iris dataset and print the model accuracy\n",
    "\n",
    "\n",
    "from sklearn.datasets import load_iris\n",
    "from sklearn.tree import DecisionTreeClassifier\n",
    "from sklearn.model_selection import train_test_split\n",
    "from sklearn.metrics import accuracy_score\n",
    "\n",
    "iris = load_iris()\n",
    "X_train, X_test, y_train, y_test = train_test_split(iris.data, iris.target, test_size=0.3, random_state=42)\n",
    "clf = DecisionTreeClassifier()\n",
    "clf.fit(X_train, y_train)\n",
    "y_pred = clf.predict(X_test)\n",
    "print(\"Model Accuracy:\", accuracy_score(y_test, y_pred))\n"
   ]
  },
  {
   "cell_type": "code",
   "execution_count": 3,
   "id": "6c01df8d",
   "metadata": {},
   "outputs": [
    {
     "name": "stdout",
     "output_type": "stream",
     "text": [
      "Feature Importances: [0.01911002 0.01911002 0.87415353 0.08762643]\n"
     ]
    }
   ],
   "source": [
    "#17. Write a Python program to train a Decision Tree Classifier using Gini Impurity as the criterion and print the feature importances\n",
    "\n",
    "clf = DecisionTreeClassifier(criterion='gini')\n",
    "clf.fit(X_train, y_train)\n",
    "print(\"Feature Importances:\", clf.feature_importances_)\n"
   ]
  },
  {
   "cell_type": "code",
   "execution_count": 4,
   "id": "64d5a98f",
   "metadata": {},
   "outputs": [
    {
     "name": "stdout",
     "output_type": "stream",
     "text": [
      "Accuracy (Entropy): 0.9777777777777777\n"
     ]
    }
   ],
   "source": [
    "#18. Write a Python program to train a Decision Tree Classifier using Entropy as the splitting criterion and print the model accuracy\n",
    "\n",
    "clf = DecisionTreeClassifier(criterion='entropy')\n",
    "clf.fit(X_train, y_train)\n",
    "y_pred = clf.predict(X_test)\n",
    "print(\"Accuracy (Entropy):\", accuracy_score(y_test, y_pred))\n"
   ]
  },
  {
   "cell_type": "code",
   "execution_count": null,
   "id": "bda3ed96",
   "metadata": {},
   "outputs": [
    {
     "name": "stdout",
     "output_type": "stream",
     "text": [
      "Mean Squared Error: 0.5247359442033915\n"
     ]
    }
   ],
   "source": [
    "#19. Write a Python program to train a Decision Tree Regressor on a housing dataset and evaluate using Mean Squared Error (MSE)*\n",
    "\n",
    "\n",
    "\n",
    "from sklearn.datasets import fetch_california_housing\n",
    "from sklearn.tree import DecisionTreeRegressor\n",
    "from sklearn.metrics import mean_squared_error\n",
    "\n",
    "housing = fetch_california_housing()\n",
    "X_train, X_test, y_train, y_test = train_test_split(housing.data, housing.target, test_size=0.3, random_state=42)\n",
    "reg = DecisionTreeRegressor()\n",
    "reg.fit(X_train, y_train)\n",
    "y_pred = reg.predict(X_test)\n",
    "print(\"Mean Squared Error:\", mean_squared_error(y_test, y_pred))\n"
   ]
  },
  {
   "cell_type": "code",
   "execution_count": 1,
   "id": "5428eca7",
   "metadata": {},
   "outputs": [
    {
     "ename": "ModuleNotFoundError",
     "evalue": "No module named 'graphviz'",
     "output_type": "error",
     "traceback": [
      "\u001b[31m---------------------------------------------------------------------------\u001b[39m",
      "\u001b[31mModuleNotFoundError\u001b[39m                       Traceback (most recent call last)",
      "\u001b[36mCell\u001b[39m\u001b[36m \u001b[39m\u001b[32mIn[1]\u001b[39m\u001b[32m, line 6\u001b[39m\n\u001b[32m      1\u001b[39m \u001b[38;5;66;03m#20. Write a Python program to train a Decision Tree Classifier and visualize the tree using graphviz\u001b[39;00m\n\u001b[32m      5\u001b[39m \u001b[38;5;28;01mfrom\u001b[39;00m\u001b[38;5;250m \u001b[39m\u001b[34;01msklearn\u001b[39;00m\u001b[34;01m.\u001b[39;00m\u001b[34;01mtree\u001b[39;00m\u001b[38;5;250m \u001b[39m\u001b[38;5;28;01mimport\u001b[39;00m export_graphviz\n\u001b[32m----> \u001b[39m\u001b[32m6\u001b[39m \u001b[38;5;28;01mimport\u001b[39;00m\u001b[38;5;250m \u001b[39m\u001b[34;01mgraphviz\u001b[39;00m\n\u001b[32m      8\u001b[39m clf = DecisionTreeClassifier()\n\u001b[32m      9\u001b[39m clf.fit(X_train, y_train)\n",
      "\u001b[31mModuleNotFoundError\u001b[39m: No module named 'graphviz'"
     ]
    }
   ],
   "source": [
    "#20. Write a Python program to train a Decision Tree Classifier and visualize the tree using graphviz\n",
    "\n",
    "\n",
    "\n",
    "from sklearn.tree import export_graphviz\n",
    "import graphviz\n",
    "\n",
    "clf = DecisionTreeClassifier()\n",
    "clf.fit(X_train, y_train)\n",
    "dot_data = export_graphviz(clf, out_file=None, feature_names=iris.feature_names,\n",
    "                           class_names=iris.target_names, filled=True)\n",
    "graph = graphviz.Source(dot_data)\n",
    "graph.render(\"iris_tree\", format='png', cleanup=True)\n",
    "\n"
   ]
  },
  {
   "cell_type": "code",
   "execution_count": 2,
   "id": "92fdf0fa",
   "metadata": {},
   "outputs": [
    {
     "name": "stdout",
     "output_type": "stream",
     "text": [
      "Accuracy (Full): 0.91\n",
      "Accuracy (Max Depth 3): 0.93\n"
     ]
    }
   ],
   "source": [
    "#21. Write a Python program to train a Decision Tree Classifier with a maximum depth of 3 and compare its accuracy with a fully grown tree\n",
    "\n",
    "\n",
    "\n",
    "\n",
    "from sklearn.datasets import load_iris\n",
    "from sklearn.tree import DecisionTreeClassifier\n",
    "from sklearn.metrics import accuracy_score\n",
    "from sklearn.model_selection import train_test_split\n",
    "\n",
    "# Load the dataset\n",
    "iris = load_iris()\n",
    "X, y = iris.data, iris.target\n",
    "\n",
    "# Split into train and test sets\n",
    "X_train, X_test, y_train, y_test = train_test_split(X, y, test_size=0.3)\n",
    "\n",
    "# Fully grown tree\n",
    "full_tree = DecisionTreeClassifier()\n",
    "full_tree.fit(X_train, y_train)\n",
    "acc_full = accuracy_score(y_test, full_tree.predict(X_test))\n",
    "\n",
    "# Tree with max_depth=3\n",
    "shallow_tree = DecisionTreeClassifier(max_depth=3)\n",
    "shallow_tree.fit(X_train, y_train)\n",
    "acc_shallow = accuracy_score(y_test, shallow_tree.predict(X_test))\n",
    "\n",
    "print(f\"Accuracy (Full): {acc_full:.2f}\")\n",
    "print(f\"Accuracy (Max Depth 3): {acc_shallow:.2f}\")\n"
   ]
  },
  {
   "cell_type": "code",
   "execution_count": 3,
   "id": "0c24a751",
   "metadata": {},
   "outputs": [
    {
     "name": "stdout",
     "output_type": "stream",
     "text": [
      "Default accuracy: 0.9111111111111111\n",
      "min_samples_split=5 accuracy: 0.9111111111111111\n"
     ]
    }
   ],
   "source": [
    "#22. Write a Python program to train a Decision Tree Classifier using min_samples_split=5 and compare its accuracy with a default tree\n",
    "\n",
    "\n",
    "tree_default = DecisionTreeClassifier()\n",
    "tree_default.fit(X_train, y_train)\n",
    "\n",
    "tree_split5 = DecisionTreeClassifier(min_samples_split=5)\n",
    "tree_split5.fit(X_train, y_train)\n",
    "\n",
    "print(\"Default accuracy:\", accuracy_score(y_test, tree_default.predict(X_test)))\n",
    "print(\"min_samples_split=5 accuracy:\", accuracy_score(y_test, tree_split5.predict(X_test)))\n"
   ]
  },
  {
   "cell_type": "code",
   "execution_count": null,
   "id": "a0022fe4",
   "metadata": {},
   "outputs": [
    {
     "name": "stdout",
     "output_type": "stream",
     "text": [
      "Unscaled accuracy: 0.9473684210526315\n",
      "Scaled accuracy: 0.9473684210526315\n"
     ]
    }
   ],
   "source": [
    "#23. Write a Python program to apply feature scaling before training a Decision Tree Classifier and compare its accuracy with unscaled data\n",
    "\n",
    "\n",
    "from sklearn.preprocessing import StandardScaler\n",
    "\n",
    "scaler = StandardScaler()\n",
    "X_scaled = scaler.fit_transform(X)\n",
    "\n",
    "X_train, X_test, y_train, y_test = train_test_split(X, y)\n",
    "\n",
    "# Without scaling\n",
    "tree_unscaled = DecisionTreeClassifier()\n",
    "tree_unscaled.fit(X_train, y_train)\n",
    "\n",
    "# With scaling\n",
    "X_train_s, X_test_s = scaler.transform(X_train), scaler.transform(X_test)\n",
    "tree_scaled = DecisionTreeClassifier()\n",
    "tree_scaled.fit(X_train_s, y_train)\n",
    "\n",
    "print(\"Unscaled accuracy:\", accuracy_score(y_test, tree_unscaled.predict(X_test)))\n",
    "print(\"Scaled accuracy:\", accuracy_score(y_test, tree_scaled.predict(X_test_s)))\n"
   ]
  },
  {
   "cell_type": "code",
   "execution_count": 5,
   "id": "1925f4b2",
   "metadata": {},
   "outputs": [
    {
     "name": "stdout",
     "output_type": "stream",
     "text": [
      "OvR Accuracy: 0.9473684210526315\n"
     ]
    }
   ],
   "source": [
    "#24. Write a Python program to train a Decision Tree Classifier using One-vs-Rest (OvR) strategy for multiclass classification\n",
    "\n",
    "\n",
    "from sklearn.multiclass import OneVsRestClassifier\n",
    "\n",
    "ovr_clf = OneVsRestClassifier(DecisionTreeClassifier())\n",
    "ovr_clf.fit(X_train, y_train)\n",
    "print(\"OvR Accuracy:\", accuracy_score(y_test, ovr_clf.predict(X_test)))\n"
   ]
  },
  {
   "cell_type": "code",
   "execution_count": 6,
   "id": "28c97e40",
   "metadata": {},
   "outputs": [
    {
     "data": {
      "image/png": "[encoded data removed]",
      "text/plain": [
       "<Figure size 640x480 with 1 Axes>"
      ]
     },
     "metadata": {},
     "output_type": "display_data"
    }
   ],
   "source": [
    "#25. Write a Python program to train a Decision Tree Classifier and display the feature importance score\n",
    "\n",
    "\n",
    "import matplotlib.pyplot as plt\n",
    "\n",
    "clf = DecisionTreeClassifier()\n",
    "clf.fit(X, y)\n",
    "\n",
    "importances = clf.feature_importances_\n",
    "plt.bar(load_iris().feature_names, importances)\n",
    "plt.xticks(rotation=45)\n",
    "plt.title(\"Feature Importances\")\n",
    "plt.show()\n"
   ]
  },
  {
   "cell_type": "code",
   "execution_count": 7,
   "id": "829c8186",
   "metadata": {},
   "outputs": [
    {
     "name": "stdout",
     "output_type": "stream",
     "text": [
      "MSE (Full): 7091.7027027027025\n",
      "MSE (max_depth=5): 5441.729315691793\n"
     ]
    }
   ],
   "source": [
    "#26.  Write a Python program to train a Decision Tree Regressor with max_depth=5 and compare its performance with an unrestricted tree\n",
    "\n",
    "\n",
    "from sklearn.datasets import load_diabetes\n",
    "from sklearn.tree import DecisionTreeRegressor\n",
    "from sklearn.metrics import mean_squared_error\n",
    "\n",
    "X, y = load_diabetes(return_X_y=True)\n",
    "X_train, X_test, y_train, y_test = train_test_split(X, y)\n",
    "\n",
    "# Full tree\n",
    "reg_full = DecisionTreeRegressor()\n",
    "reg_full.fit(X_train, y_train)\n",
    "\n",
    "# Limited depth\n",
    "reg_limited = DecisionTreeRegressor(max_depth=5)\n",
    "reg_limited.fit(X_train, y_train)\n",
    "\n",
    "print(\"MSE (Full):\", mean_squared_error(y_test, reg_full.predict(X_test)))\n",
    "print(\"MSE (max_depth=5):\", mean_squared_error(y_test, reg_limited.predict(X_test)))\n"
   ]
  },
  {
   "cell_type": "code",
   "execution_count": 8,
   "id": "629db25b",
   "metadata": {},
   "outputs": [
    {
     "data": {
      "image/png": "[encoded data removed]",
      "text/plain": [
       "<Figure size 640x480 with 1 Axes>"
      ]
     },
     "metadata": {},
     "output_type": "display_data"
    }
   ],
   "source": [
    "#27. Write a Python program to train a Decision Tree Classifier, apply Cost Complexity Pruning (CCP), and visualize its effect on accuracy\n",
    "\n",
    "\n",
    "\n",
    "path = clf.cost_complexity_pruning_path(X_train, y_train)\n",
    "ccp_alphas = path.ccp_alphas\n",
    "\n",
    "import matplotlib.pyplot as plt\n",
    "acc = []\n",
    "for ccp_alpha in ccp_alphas:\n",
    "    pruned = DecisionTreeClassifier(ccp_alpha=ccp_alpha)\n",
    "    pruned.fit(X_train, y_train)\n",
    "    acc.append(accuracy_score(y_test, pruned.predict(X_test)))\n",
    "\n",
    "plt.plot(ccp_alphas, acc, marker='o')\n",
    "plt.xlabel(\"ccp_alpha\")\n",
    "plt.ylabel(\"Accuracy\")\n",
    "plt.title(\"CCP Alpha vs Accuracy\")\n",
    "plt.show()\n",
    "\n",
    "\n",
    "\n"
   ]
  },
  {
   "cell_type": "code",
   "execution_count": 11,
   "id": "ae88a9ee",
   "metadata": {},
   "outputs": [
    {
     "name": "stdout",
     "output_type": "stream",
     "text": [
      "Classification Report:\n",
      "              precision    recall  f1-score   support\n",
      "\n",
      "      setosa       1.00      1.00      1.00        19\n",
      "  versicolor       1.00      1.00      1.00        13\n",
      "   virginica       1.00      1.00      1.00        13\n",
      "\n",
      "    accuracy                           1.00        45\n",
      "   macro avg       1.00      1.00      1.00        45\n",
      "weighted avg       1.00      1.00      1.00        45\n",
      "\n"
     ]
    }
   ],
   "source": [
    "#28.  Write a Python program to train a Decision Tree Classifier and evaluate its performance using Precision, Recall, and F1-Score*\n",
    "\n",
    "\n",
    "\n",
    "\n",
    "from sklearn.datasets import load_iris\n",
    "from sklearn.tree import DecisionTreeClassifier\n",
    "from sklearn.model_selection import train_test_split\n",
    "from sklearn.metrics import classification_report\n",
    "\n",
    "# Load dataset\n",
    "iris = load_iris()\n",
    "X, y = iris.data, iris.target\n",
    "\n",
    "# Split data\n",
    "X_train, X_test, y_train, y_test = train_test_split(X, y, test_size=0.3, random_state=42)\n",
    "\n",
    "# Train Decision Tree Classifier\n",
    "clf = DecisionTreeClassifier()\n",
    "clf.fit(X_train, y_train)\n",
    "\n",
    "# Make predictions\n",
    "y_pred = clf.predict(X_test)\n",
    "\n",
    "# Evaluate performance\n",
    "print(\"Classification Report:\")\n",
    "print(classification_report(y_test, y_pred, target_names=iris.target_names))\n",
    "\n"
   ]
  },
  {
   "cell_type": "code",
   "execution_count": 12,
   "id": "220267e1",
   "metadata": {},
   "outputs": [
    {
     "data": {
      "image/png": "[encoded data removed]",
      "text/plain": [
       "<Figure size 640x480 with 2 Axes>"
      ]
     },
     "metadata": {},
     "output_type": "display_data"
    }
   ],
   "source": [
    "#29. Write a Python program to train a Decision Tree Classifier and visualize the confusion matrix using seabo\n",
    "\n",
    "\n",
    "from sklearn.metrics import confusion_matrix\n",
    "import seaborn as sns\n",
    "\n",
    "cm = confusion_matrix(y_test, y_pred)\n",
    "sns.heatmap(cm, annot=True, cmap=\"Blues\", xticklabels=load_iris().target_names,\n",
    "            yticklabels=load_iris().target_names)\n",
    "plt.xlabel(\"Predicted\")\n",
    "plt.ylabel(\"Actual\")\n",
    "plt.title(\"Confusion Matrix\")\n",
    "plt.show()\n"
   ]
  },
  {
   "cell_type": "code",
   "execution_count": 13,
   "id": "2d08a46c",
   "metadata": {},
   "outputs": [
    {
     "name": "stdout",
     "output_type": "stream",
     "text": [
      "Best parameters: {'max_depth': 3, 'min_samples_split': 2}\n",
      "Best score: 0.9733333333333334\n"
     ]
    }
   ],
   "source": [
    "#30. Write a Python program to train a Decision Tree Classifier and use GridSearchCV to find the optimal values for max_depth and min_samples_split.\n",
    "\n",
    "\n",
    "\n",
    "from sklearn.model_selection import GridSearchCV\n",
    "\n",
    "params = {'max_depth': [2, 3, 4, 5, None], 'min_samples_split': [2, 5, 10]}\n",
    "grid = GridSearchCV(DecisionTreeClassifier(), param_grid=params, cv=5)\n",
    "grid.fit(X, y)\n",
    "\n",
    "print(\"Best parameters:\", grid.best_params_)\n",
    "print(\"Best score:\", grid.best_score_)\n"
   ]
  },
  {
   "cell_type": "code",
   "execution_count": null,
   "id": "afea2981",
   "metadata": {},
   "outputs": [],
   "source": []
  }
 ],
 "metadata": {
  "kernelspec": {
   "display_name": "Python 3",
   "language": "python",
   "name": "python3"
  },
  "language_info": {
   "codemirror_mode": {
    "name": "ipython",
    "version": 3
   },
   "file_extension": ".py",
   "mimetype": "text/x-python",
   "name": "python",
   "nbconvert_exporter": "python",
   "pygments_lexer": "ipython3",
   "version": "3.13.2"
  }
 },
 "nbformat": 4,
 "nbformat_minor": 5
}
